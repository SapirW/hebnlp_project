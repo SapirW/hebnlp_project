{
 "cells": [
  {
   "cell_type": "code",
   "execution_count": 1,
   "metadata": {
    "pycharm": {
     "name": "#%%\n"
    }
   },
   "outputs": [
    {
     "name": "stdout",
     "output_type": "stream",
     "text": [
      "גבר בן שלושים נורה ברחוב העלייה בלוד, מצבו קשה. חובשי מגן דוד אדום טיפלו בזירה, ופינו אותו כשהכרתו מעורפלת, למרכז הרפואי שמיר אסף הרופא. \n",
      "/Users/sapir/PycharmProjects/hebnlp_project/data/2019/20-00/אוקטובר/071019 שני+ שירז.docx\n"
     ]
    },
    {
     "data": {
      "text/html": [
       "<div>\n",
       "<style scoped>\n",
       "    .dataframe tbody tr th:only-of-type {\n",
       "        vertical-align: middle;\n",
       "    }\n",
       "\n",
       "    .dataframe tbody tr th {\n",
       "        vertical-align: top;\n",
       "    }\n",
       "\n",
       "    .dataframe thead th {\n",
       "        text-align: right;\n",
       "    }\n",
       "</style>\n",
       "<table border=\"1\" class=\"dataframe\">\n",
       "  <thead>\n",
       "    <tr style=\"text-align: right;\">\n",
       "      <th></th>\n",
       "      <th>paragraph</th>\n",
       "      <th>hour</th>\n",
       "      <th>day</th>\n",
       "      <th>month</th>\n",
       "      <th>year</th>\n",
       "      <th>filename</th>\n",
       "      <th>time</th>\n",
       "    </tr>\n",
       "  </thead>\n",
       "  <tbody>\n",
       "    <tr>\n",
       "      <th>0</th>\n",
       "      <td>תם שימוע ראש הממשלה, בינימין נתניהו: לאחר עשר ...</td>\n",
       "      <td>21</td>\n",
       "      <td>7</td>\n",
       "      <td>10</td>\n",
       "      <td>2019</td>\n",
       "      <td>/Users/sapir/PycharmProjects/hebnlp_project/da...</td>\n",
       "      <td>2019-10-07 21:00:00</td>\n",
       "    </tr>\n",
       "    <tr>\n",
       "      <th>1</th>\n",
       "      <td>גבר בן שלושים נורה ברחוב העלייה בלוד, מצבו קשה...</td>\n",
       "      <td>21</td>\n",
       "      <td>7</td>\n",
       "      <td>10</td>\n",
       "      <td>2019</td>\n",
       "      <td>/Users/sapir/PycharmProjects/hebnlp_project/da...</td>\n",
       "      <td>2019-10-07 21:00:00</td>\n",
       "    </tr>\n",
       "    <tr>\n",
       "      <th>2</th>\n",
       "      <td>הרמטכ\"ל, רב אלוף אביב כוכבי, מזהיר הערב: \"לא נ...</td>\n",
       "      <td>21</td>\n",
       "      <td>7</td>\n",
       "      <td>10</td>\n",
       "      <td>2019</td>\n",
       "      <td>/Users/sapir/PycharmProjects/hebnlp_project/da...</td>\n",
       "      <td>2019-10-07 21:00:00</td>\n",
       "    </tr>\n",
       "    <tr>\n",
       "      <th>3</th>\n",
       "      <td>שר התחבורה בצלאל סמוטריץ' הודיע בעמוד הפייסבוק...</td>\n",
       "      <td>21</td>\n",
       "      <td>7</td>\n",
       "      <td>10</td>\n",
       "      <td>2019</td>\n",
       "      <td>/Users/sapir/PycharmProjects/hebnlp_project/da...</td>\n",
       "      <td>2019-10-07 21:00:00</td>\n",
       "    </tr>\n",
       "    <tr>\n",
       "      <th>4</th>\n",
       "      <td>נשיא ארצות הברית טראמפ הודיע כי יציב קווים אדו...</td>\n",
       "      <td>21</td>\n",
       "      <td>7</td>\n",
       "      <td>10</td>\n",
       "      <td>2019</td>\n",
       "      <td>/Users/sapir/PycharmProjects/hebnlp_project/da...</td>\n",
       "      <td>2019-10-07 21:00:00</td>\n",
       "    </tr>\n",
       "    <tr>\n",
       "      <th>...</th>\n",
       "      <td>...</td>\n",
       "      <td>...</td>\n",
       "      <td>...</td>\n",
       "      <td>...</td>\n",
       "      <td>...</td>\n",
       "      <td>...</td>\n",
       "      <td>...</td>\n",
       "    </tr>\n",
       "    <tr>\n",
       "      <th>5140</th>\n",
       "      <td>הלימודים לא מתחדשים לפחות עד מחרתיים - רק הערב...</td>\n",
       "      <td>8</td>\n",
       "      <td>9</td>\n",
       "      <td>2</td>\n",
       "      <td>2021</td>\n",
       "      <td>/Users/sapir/PycharmProjects/hebnlp_project/da...</td>\n",
       "      <td>2021-02-09 08:00:00</td>\n",
       "    </tr>\n",
       "    <tr>\n",
       "      <th>5141</th>\n",
       "      <td>בחירות אלפיים עשרים ואחת: יושב ראש ימינה חבר ה...</td>\n",
       "      <td>8</td>\n",
       "      <td>9</td>\n",
       "      <td>2</td>\n",
       "      <td>2021</td>\n",
       "      <td>/Users/sapir/PycharmProjects/hebnlp_project/da...</td>\n",
       "      <td>2021-02-09 08:00:00</td>\n",
       "    </tr>\n",
       "    <tr>\n",
       "      <th>5142</th>\n",
       "      <td>המחדל בנבטים: במהלך הלילה אותרה הנקודה בגדר שמ...</td>\n",
       "      <td>8</td>\n",
       "      <td>9</td>\n",
       "      <td>2</td>\n",
       "      <td>2021</td>\n",
       "      <td>/Users/sapir/PycharmProjects/hebnlp_project/da...</td>\n",
       "      <td>2021-02-09 08:00:00</td>\n",
       "    </tr>\n",
       "    <tr>\n",
       "      <th>5143</th>\n",
       "      <td>הדיונים על פתיחת המסחר באמצעות \"הדרכון הירוק\" ...</td>\n",
       "      <td>8</td>\n",
       "      <td>9</td>\n",
       "      <td>2</td>\n",
       "      <td>2021</td>\n",
       "      <td>/Users/sapir/PycharmProjects/hebnlp_project/da...</td>\n",
       "      <td>2021-02-09 08:00:00</td>\n",
       "    </tr>\n",
       "    <tr>\n",
       "      <th>5144</th>\n",
       "      <td>פרסום ראשון: חיילת פנתה לרמטכ\"ל בדרישה - פתח א...</td>\n",
       "      <td>8</td>\n",
       "      <td>9</td>\n",
       "      <td>2</td>\n",
       "      <td>2021</td>\n",
       "      <td>/Users/sapir/PycharmProjects/hebnlp_project/da...</td>\n",
       "      <td>2021-02-09 08:00:00</td>\n",
       "    </tr>\n",
       "  </tbody>\n",
       "</table>\n",
       "<p>4750 rows × 7 columns</p>\n",
       "</div>"
      ],
      "text/plain": [
       "                                              paragraph  hour  day  month  \\\n",
       "0     תם שימוע ראש הממשלה, בינימין נתניהו: לאחר עשר ...    21    7     10   \n",
       "1     גבר בן שלושים נורה ברחוב העלייה בלוד, מצבו קשה...    21    7     10   \n",
       "2     הרמטכ\"ל, רב אלוף אביב כוכבי, מזהיר הערב: \"לא נ...    21    7     10   \n",
       "3     שר התחבורה בצלאל סמוטריץ' הודיע בעמוד הפייסבוק...    21    7     10   \n",
       "4     נשיא ארצות הברית טראמפ הודיע כי יציב קווים אדו...    21    7     10   \n",
       "...                                                 ...   ...  ...    ...   \n",
       "5140  הלימודים לא מתחדשים לפחות עד מחרתיים - רק הערב...     8    9      2   \n",
       "5141  בחירות אלפיים עשרים ואחת: יושב ראש ימינה חבר ה...     8    9      2   \n",
       "5142  המחדל בנבטים: במהלך הלילה אותרה הנקודה בגדר שמ...     8    9      2   \n",
       "5143  הדיונים על פתיחת המסחר באמצעות \"הדרכון הירוק\" ...     8    9      2   \n",
       "5144  פרסום ראשון: חיילת פנתה לרמטכ\"ל בדרישה - פתח א...     8    9      2   \n",
       "\n",
       "      year                                           filename  \\\n",
       "0     2019  /Users/sapir/PycharmProjects/hebnlp_project/da...   \n",
       "1     2019  /Users/sapir/PycharmProjects/hebnlp_project/da...   \n",
       "2     2019  /Users/sapir/PycharmProjects/hebnlp_project/da...   \n",
       "3     2019  /Users/sapir/PycharmProjects/hebnlp_project/da...   \n",
       "4     2019  /Users/sapir/PycharmProjects/hebnlp_project/da...   \n",
       "...    ...                                                ...   \n",
       "5140  2021  /Users/sapir/PycharmProjects/hebnlp_project/da...   \n",
       "5141  2021  /Users/sapir/PycharmProjects/hebnlp_project/da...   \n",
       "5142  2021  /Users/sapir/PycharmProjects/hebnlp_project/da...   \n",
       "5143  2021  /Users/sapir/PycharmProjects/hebnlp_project/da...   \n",
       "5144  2021  /Users/sapir/PycharmProjects/hebnlp_project/da...   \n",
       "\n",
       "                    time  \n",
       "0    2019-10-07 21:00:00  \n",
       "1    2019-10-07 21:00:00  \n",
       "2    2019-10-07 21:00:00  \n",
       "3    2019-10-07 21:00:00  \n",
       "4    2019-10-07 21:00:00  \n",
       "...                  ...  \n",
       "5140 2021-02-09 08:00:00  \n",
       "5141 2021-02-09 08:00:00  \n",
       "5142 2021-02-09 08:00:00  \n",
       "5143 2021-02-09 08:00:00  \n",
       "5144 2021-02-09 08:00:00  \n",
       "\n",
       "[4750 rows x 7 columns]"
      ]
     },
     "execution_count": 1,
     "metadata": {},
     "output_type": "execute_result"
    }
   ],
   "source": [
    "import pandas as pd\n",
    "import matplotlib.pyplot as plt\n",
    "\n",
    "df = pd.read_json(\"/Users/sapir/PycharmProjects/hebnlp_project/data/processed_data/processed_before_NEMO.json\")\n",
    "dti = pd.to_datetime(df[[\"year\", \"month\", \"day\", \"hour\"]], errors=\"coerce\")\n",
    "df[\"time\"] = dti\n",
    "print(df[\"paragraph\"].iloc[1])\n",
    "print(df[\"filename\"].iloc[0])\n",
    "df"
   ]
  },
  {
   "cell_type": "markdown",
   "metadata": {},
   "source": [
    "## Data Statistics"
   ]
  },
  {
   "cell_type": "markdown",
   "metadata": {},
   "source": [
    "### Statistics of number of paragraphs per news report"
   ]
  },
  {
   "cell_type": "code",
   "execution_count": 2,
   "metadata": {
    "pycharm": {
     "name": "#%%\n"
    }
   },
   "outputs": [
    {
     "name": "stdout",
     "output_type": "stream",
     "text": [
      "2019-06-30 08:00:00    10\n",
      "2020-04-01 08:00:00    10\n",
      "2020-03-18 08:00:00     9\n",
      "2019-06-20 08:00:00     9\n",
      "2020-02-05 08:00:00     9\n",
      "                       ..\n",
      "2019-05-30 08:00:00     2\n",
      "2020-01-28 21:00:00     2\n",
      "2019-09-17 08:00:00     2\n",
      "2019-11-12 08:00:00     1\n",
      "2019-08-08 08:00:00     1\n",
      "Name: time, Length: 883, dtype: int64\n"
     ]
    },
    {
     "data": {
      "text/plain": [
       "5.374858437146093"
      ]
     },
     "execution_count": 2,
     "metadata": {},
     "output_type": "execute_result"
    }
   ],
   "source": [
    "# Number of paragraphs per news report\n",
    "frequencies_df = df[\"time\"].value_counts()\n",
    "print(frequencies_df)\n",
    "\n",
    "# drop files with 1 detected paragraph - error\n",
    "# Average number of paragraph per news report\n",
    "df[\"time\"].value_counts().mean()"
   ]
  },
  {
   "cell_type": "markdown",
   "metadata": {},
   "source": [
    "### One Sample"
   ]
  },
  {
   "cell_type": "code",
   "execution_count": 3,
   "metadata": {},
   "outputs": [
    {
     "name": "stdout",
     "output_type": "stream",
     "text": [
      "גבר בן שלושים נורה ברחוב העלייה בלוד, מצבו קשה. חובשי מגן דוד אדום טיפלו בזירה, ופינו אותו כשהכרתו מעורפלת, למרכז הרפואי שמיר אסף הרופא. \n"
     ]
    }
   ],
   "source": [
    "aa=df.iloc[1,0]\n",
    "print(aa)"
   ]
  },
  {
   "cell_type": "markdown",
   "metadata": {},
   "source": [
    "### Stopwords analysis"
   ]
  },
  {
   "cell_type": "code",
   "execution_count": 4,
   "metadata": {},
   "outputs": [
    {
     "name": "stdout",
     "output_type": "stream",
     "text": [
      "['את', 'לא', 'של', 'אני', 'על', 'זה', 'עם', 'כל', 'הוא', 'אם']\n"
     ]
    }
   ],
   "source": [
    "def get_hebrew_stopwords(top_k):\n",
    "    stop_path=\"../added_material/heb_stopwords.txt\"\n",
    "    with open(stop_path, encoding=\"utf-8\") as in_file:\n",
    "        lines=in_file.readlines()\n",
    "        res=[l.strip() for l in lines]\n",
    "        print(res[:top_k])\n",
    "    return res\n",
    "\n",
    "stop = set(get_hebrew_stopwords(10))\n",
    "paragraph_text = df[\"paragraph\"]"
   ]
  },
  {
   "cell_type": "markdown",
   "metadata": {},
   "source": [
    "##### Character Length Histogram"
   ]
  },
  {
   "cell_type": "code",
   "execution_count": 5,
   "metadata": {
    "pycharm": {
     "name": "#%%\n"
    }
   },
   "outputs": [],
   "source": [
    "def plot_character_length_histogram(text):\n",
    "    text.str.len().\\\n",
    "        hist()"
   ]
  },
  {
   "cell_type": "code",
   "execution_count": 6,
   "metadata": {
    "pycharm": {
     "name": "#%%\n"
    },
    "scrolled": true
   },
   "outputs": [
    {
     "name": "stdout",
     "output_type": "stream",
     "text": [
      "Character Length Histogram\n"
     ]
    },
    {
     "data": {
      "image/png": "[encoded data removed]",
      "text/plain": [
       "<Figure size 432x288 with 1 Axes>"
      ]
     },
     "metadata": {
      "needs_background": "light"
     },
     "output_type": "display_data"
    }
   ],
   "source": [
    "print(\"Character Length Histogram\")\n",
    "plot_character_length_histogram(paragraph_text)"
   ]
  },
  {
   "cell_type": "markdown",
   "metadata": {},
   "source": [
    "###### Word Number Histogram"
   ]
  },
  {
   "cell_type": "code",
   "execution_count": 7,
   "metadata": {},
   "outputs": [],
   "source": [
    "import matplotlib.pyplot as plt"
   ]
  },
  {
   "cell_type": "code",
   "execution_count": 8,
   "metadata": {},
   "outputs": [],
   "source": [
    "def plot_word_number_histogram(text):\n",
    "    fig, axs = plt.subplots()\n",
    "    axs.set_xlabel(\"Words Count\")\n",
    "    axs.set_ylabel(\"Number of Paragraphs\")\n",
    "    axs.set_title(\"Distribution of Words Count\")\n",
    "    text.str.split().\\\n",
    "        map(lambda x: len(x)).\\\n",
    "        hist()\n",
    "    plt.savefig(\"word_count_distribution.png\", dpi=300)\n",
    "    \n",
    "def average_word_number(text):\n",
    "    return text.str.split().apply(len).\\\n",
    "        mean()"
   ]
  },
  {
   "cell_type": "code",
   "execution_count": 9,
   "metadata": {},
   "outputs": [
    {
     "name": "stdout",
     "output_type": "stream",
     "text": [
      "mean:54.3941052631579\n"
     ]
    },
    {
     "data": {
      "image/png": "[encoded data removed]",
      "text/plain": [
       "<Figure size 432x288 with 1 Axes>"
      ]
     },
     "metadata": {
      "needs_background": "light"
     },
     "output_type": "display_data"
    }
   ],
   "source": [
    "plot_word_number_histogram(paragraph_text)\n",
    "print(\"mean:\" + str(average_word_number(paragraph_text)))"
   ]
  },
  {
   "cell_type": "markdown",
   "metadata": {},
   "source": [
    "##### Top Stopwords Barchart"
   ]
  },
  {
   "cell_type": "code",
   "execution_count": 10,
   "metadata": {},
   "outputs": [],
   "source": [
    "import matplotlib.pyplot as plt\n",
    "import numpy as np\n",
    "\n",
    "def plot_top_stopwords_barchart(text, stop):\n",
    "    #stop=set(stopwords.words('english'))\n",
    "    #stop=set(get_hebrew_stopwords())\n",
    "    \n",
    "    new= text.str.split()\n",
    "    new=new.values.tolist()\n",
    "    corpus=[word for i in new for word in i]\n",
    "    from collections import defaultdict\n",
    "    dic=defaultdict(int)\n",
    "    for word in corpus:\n",
    "        if word in stop:\n",
    "            dic[word]+=1\n",
    "            \n",
    "    top=sorted(dic.items(), key=lambda x:x[1],reverse=True)[:10] \n",
    "    x,y=zip(*top)\n",
    "    x=[w[::-1] for w in x]\n",
    "    plt.bar(x,y)"
   ]
  },
  {
   "cell_type": "code",
   "execution_count": 11,
   "metadata": {},
   "outputs": [],
   "source": [
    "def invert_words(words):\n",
    "    return [w[::-1] for w in words]"
   ]
  },
  {
   "cell_type": "code",
   "execution_count": 12,
   "metadata": {},
   "outputs": [
    {
     "data": {
      "image/png": "[encoded data removed]",
      "text/plain": [
       "<Figure size 432x288 with 1 Axes>"
      ]
     },
     "metadata": {
      "needs_background": "light"
     },
     "output_type": "display_data"
    }
   ],
   "source": [
    "plot_top_stopwords_barchart(paragraph_text, stop)"
   ]
  },
  {
   "cell_type": "markdown",
   "metadata": {},
   "source": [
    "#### Top Non-Stopwords Barchart"
   ]
  },
  {
   "cell_type": "code",
   "execution_count": 29,
   "metadata": {},
   "outputs": [],
   "source": [
    "import seaborn as sns\n",
    "from collections import  Counter\n",
    "\n",
    "def plot_top_non_stopwords_barchart(text, stop):\n",
    "    #stop=set(get_hebrew_stopwords())\n",
    "    \n",
    "    new= text.str.split()\n",
    "    new=new.values.tolist()\n",
    "    corpus=[word for i in new for word in i]\n",
    "\n",
    "    counter=Counter(corpus)\n",
    "    most=counter.most_common()\n",
    "    x, y=[], []\n",
    "    for word,count in most[:30]:\n",
    "        if (word not in stop) and word != \"-\":\n",
    "            x.append(word)\n",
    "            y.append(count)\n",
    "    fig, ax = plt.subplots()\n",
    "    sns.barplot(x=y,y=invert_words(x), ax=ax)\n",
    "    plt.savefig(\"stopwords.png\", dpi=300)\n",
    "    return most"
   ]
  },
  {
   "cell_type": "code",
   "execution_count": null,
   "metadata": {},
   "outputs": [
    {
     "data": {
      "image/png": "[encoded data removed]",
      "text/plain": [
       "<Figure size 432x288 with 1 Axes>"
      ]
     },
     "metadata": {
      "needs_background": "light"
     },
     "output_type": "display_data"
    }
   ],
   "source": [
    "most = plot_top_non_stopwords_barchart(paragraph_text, stop)"
   ]
  },
  {
   "cell_type": "markdown",
   "metadata": {},
   "source": [
    "###### Stopwords in Evening Only:"
   ]
  },
  {
   "cell_type": "code",
   "execution_count": null,
   "metadata": {
    "scrolled": true
   },
   "outputs": [],
   "source": [
    "evening_df = df.loc[df['hour'] == 21]\n",
    "evening_text = evening_df[\"paragraph\"]\n",
    "plot_top_non_stopwords_barchart(evening_text, stop)"
   ]
  },
  {
   "cell_type": "markdown",
   "metadata": {},
   "source": [
    "###### Stopwords in Morning Only:"
   ]
  },
  {
   "cell_type": "code",
   "execution_count": null,
   "metadata": {},
   "outputs": [],
   "source": [
    "morning_df = df.loc[df['hour'] == 8]\n",
    "morning_text = morning_df[\"paragraph\"]\n",
    "plot_top_non_stopwords_barchart(morning_text, stop)"
   ]
  },
  {
   "cell_type": "markdown",
   "metadata": {},
   "source": [
    "# Top N-grams Barchart\n"
   ]
  },
  {
   "cell_type": "code",
   "execution_count": 32,
   "metadata": {},
   "outputs": [],
   "source": [
    "import seaborn as sns\n",
    "import numpy as np\n",
    "from sklearn.feature_extraction.text import CountVectorizer\n",
    "from collections import  Counter\n",
    "\n",
    "def plot_top_ngrams_barchart(text, n, file_name):\n",
    "    #stop=set(stopwords.words('english'))\n",
    "\n",
    "    new= text.str.split()\n",
    "    new=new.values.tolist()\n",
    "    corpus=[word for i in new for word in i]\n",
    "\n",
    "    def _get_top_ngram(corpus, n=None):\n",
    "        vec = CountVectorizer(ngram_range=(n, n)).fit(corpus)\n",
    "        bag_of_words = vec.transform(corpus)\n",
    "        sum_words = bag_of_words.sum(axis=0) \n",
    "        words_freq = [(word, sum_words[0, idx]) \n",
    "                      for word, idx in vec.vocabulary_.items()]\n",
    "        words_freq =sorted(words_freq, key = lambda x: x[1], reverse=True)\n",
    "        return words_freq[:10]\n",
    "\n",
    "    top_n_bigrams=_get_top_ngram(text,n)[:10]\n",
    "    x,y=map(list,zip(*top_n_bigrams))\n",
    "    fig, ax = plt.subplots()\n",
    "    sns.barplot(x=y,y=invert_words(x), ax=ax)\n",
    "    plt.savefig(file_name, dpi=300)"
   ]
  },
  {
   "cell_type": "markdown",
   "metadata": {},
   "source": [
    "### Bigrams"
   ]
  },
  {
   "cell_type": "code",
   "execution_count": 33,
   "metadata": {},
   "outputs": [
    {
     "data": {
      "image/png": "[encoded data removed]",
      "text/plain": [
       "<Figure size 432x288 with 1 Axes>"
      ]
     },
     "metadata": {
      "needs_background": "light"
     },
     "output_type": "display_data"
    }
   ],
   "source": [
    "plot_top_ngrams_barchart(paragraph_text,2, \"bigrams.png\")"
   ]
  },
  {
   "cell_type": "code",
   "execution_count": 34,
   "metadata": {},
   "outputs": [
    {
     "data": {
      "image/png": "[encoded data removed]",
      "text/plain": [
       "<Figure size 432x288 with 1 Axes>"
      ]
     },
     "metadata": {
      "needs_background": "light"
     },
     "output_type": "display_data"
    }
   ],
   "source": [
    "plot_top_ngrams_barchart(morning_text,2, \"trigrams.png\")"
   ]
  },
  {
   "cell_type": "code",
   "execution_count": 20,
   "metadata": {},
   "outputs": [
    {
     "data": {
      "image/png": "[encoded data removed]",
      "text/plain": [
       "<Figure size 432x288 with 1 Axes>"
      ]
     },
     "metadata": {
      "needs_background": "light"
     },
     "output_type": "display_data"
    }
   ],
   "source": [
    "plot_top_ngrams_barchart(evening_text,2)"
   ]
  },
  {
   "cell_type": "markdown",
   "metadata": {},
   "source": [
    "### Trigrams"
   ]
  },
  {
   "cell_type": "code",
   "execution_count": 21,
   "metadata": {},
   "outputs": [
    {
     "data": {
      "image/png": "[encoded data removed]",
      "text/plain": [
       "<Figure size 432x288 with 1 Axes>"
      ]
     },
     "metadata": {
      "needs_background": "light"
     },
     "output_type": "display_data"
    }
   ],
   "source": [
    "plot_top_ngrams_barchart(paragraph_text,3)"
   ]
  }
 ],
 "metadata": {
  "kernelspec": {
   "display_name": "Python 3",
   "language": "python",
   "name": "python3"
  },
  "language_info": {
   "codemirror_mode": {
    "name": "ipython",
    "version": 3
   },
   "file_extension": ".py",
   "mimetype": "text/x-python",
   "name": "python",
   "nbconvert_exporter": "python",
   "pygments_lexer": "ipython3",
   "version": "3.8.11"
  }
 },
 "nbformat": 4,
 "nbformat_minor": 4
}
