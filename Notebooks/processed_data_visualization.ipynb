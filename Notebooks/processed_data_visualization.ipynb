{
 "cells": [
  {
   "cell_type": "code",
   "execution_count": 1,
   "id": "d40c2ca4-64f8-4d46-8eb3-20c52b9f4fdb",
   "metadata": {},
   "outputs": [],
   "source": [
    "import pandas as pd\n",
    "import matplotlib.pyplot as plt\n",
    "import gensim"
   ]
  },
  {
   "cell_type": "code",
   "execution_count": 2,
   "id": "ab3f96ee-c027-4d7a-9370-871c21e5feec",
   "metadata": {},
   "outputs": [
    {
     "data": {
      "text/html": [
       "<div>\n",
       "<style scoped>\n",
       "    .dataframe tbody tr th:only-of-type {\n",
       "        vertical-align: middle;\n",
       "    }\n",
       "\n",
       "    .dataframe tbody tr th {\n",
       "        vertical-align: top;\n",
       "    }\n",
       "\n",
       "    .dataframe thead th {\n",
       "        text-align: right;\n",
       "    }\n",
       "</style>\n",
       "<table border=\"1\" class=\"dataframe\">\n",
       "  <thead>\n",
       "    <tr style=\"text-align: right;\">\n",
       "      <th></th>\n",
       "      <th>paragraph</th>\n",
       "      <th>hour</th>\n",
       "      <th>day</th>\n",
       "      <th>month</th>\n",
       "      <th>year</th>\n",
       "      <th>filename</th>\n",
       "      <th>time</th>\n",
       "    </tr>\n",
       "  </thead>\n",
       "  <tbody>\n",
       "    <tr>\n",
       "      <th>0</th>\n",
       "      <td>תם שימוע ראש הממשלה בינימין נתניהו לאחר עשר שע...</td>\n",
       "      <td>21</td>\n",
       "      <td>7</td>\n",
       "      <td>10</td>\n",
       "      <td>2019</td>\n",
       "      <td>/Users/sapir/PycharmProjects/hebnlp_project/da...</td>\n",
       "      <td>2019-10-07 21:00:00</td>\n",
       "    </tr>\n",
       "    <tr>\n",
       "      <th>1</th>\n",
       "      <td>גבר בן שלושים נורה ברחוב העלייה בלוד מצבו קשה ...</td>\n",
       "      <td>21</td>\n",
       "      <td>7</td>\n",
       "      <td>10</td>\n",
       "      <td>2019</td>\n",
       "      <td>/Users/sapir/PycharmProjects/hebnlp_project/da...</td>\n",
       "      <td>2019-10-07 21:00:00</td>\n",
       "    </tr>\n",
       "    <tr>\n",
       "      <th>2</th>\n",
       "      <td>הרמטכל רב אלוף אביב כוכבי מזהיר הערב לא נאפשר ...</td>\n",
       "      <td>21</td>\n",
       "      <td>7</td>\n",
       "      <td>10</td>\n",
       "      <td>2019</td>\n",
       "      <td>/Users/sapir/PycharmProjects/hebnlp_project/da...</td>\n",
       "      <td>2019-10-07 21:00:00</td>\n",
       "    </tr>\n",
       "    <tr>\n",
       "      <th>3</th>\n",
       "      <td>שר התחבורה בצלאל סמוטריץ הודיע בעמוד הפייסבוק ...</td>\n",
       "      <td>21</td>\n",
       "      <td>7</td>\n",
       "      <td>10</td>\n",
       "      <td>2019</td>\n",
       "      <td>/Users/sapir/PycharmProjects/hebnlp_project/da...</td>\n",
       "      <td>2019-10-07 21:00:00</td>\n",
       "    </tr>\n",
       "    <tr>\n",
       "      <th>4</th>\n",
       "      <td>נשיא ארצות הברית טראמפ הודיע יציב קווים אדומים...</td>\n",
       "      <td>21</td>\n",
       "      <td>7</td>\n",
       "      <td>10</td>\n",
       "      <td>2019</td>\n",
       "      <td>/Users/sapir/PycharmProjects/hebnlp_project/da...</td>\n",
       "      <td>2019-10-07 21:00:00</td>\n",
       "    </tr>\n",
       "    <tr>\n",
       "      <th>...</th>\n",
       "      <td>...</td>\n",
       "      <td>...</td>\n",
       "      <td>...</td>\n",
       "      <td>...</td>\n",
       "      <td>...</td>\n",
       "      <td>...</td>\n",
       "      <td>...</td>\n",
       "    </tr>\n",
       "    <tr>\n",
       "      <th>5141</th>\n",
       "      <td>בחירות אלפיים עשרים ואחת יושב ראש ימינה חבר הכ...</td>\n",
       "      <td>8</td>\n",
       "      <td>9</td>\n",
       "      <td>2</td>\n",
       "      <td>2021</td>\n",
       "      <td>/Users/sapir/PycharmProjects/hebnlp_project/da...</td>\n",
       "      <td>2021-02-09 08:00:00</td>\n",
       "    </tr>\n",
       "    <tr>\n",
       "      <th>5142</th>\n",
       "      <td>המחדל בנבטים במהלך אותרה הנקודה בגדר שממנה ככל...</td>\n",
       "      <td>8</td>\n",
       "      <td>9</td>\n",
       "      <td>2</td>\n",
       "      <td>2021</td>\n",
       "      <td>/Users/sapir/PycharmProjects/hebnlp_project/da...</td>\n",
       "      <td>2021-02-09 08:00:00</td>\n",
       "    </tr>\n",
       "    <tr>\n",
       "      <th>5143</th>\n",
       "      <td>הדיונים על פתיחת המסחר באמצעות הדרכון הירוק יי...</td>\n",
       "      <td>8</td>\n",
       "      <td>9</td>\n",
       "      <td>2</td>\n",
       "      <td>2021</td>\n",
       "      <td>/Users/sapir/PycharmProjects/hebnlp_project/da...</td>\n",
       "      <td>2021-02-09 08:00:00</td>\n",
       "    </tr>\n",
       "    <tr>\n",
       "      <th>5144</th>\n",
       "      <td>פרסום ראשון חיילת פנתה לרמטכל בדרישה פתח את כל...</td>\n",
       "      <td>8</td>\n",
       "      <td>9</td>\n",
       "      <td>2</td>\n",
       "      <td>2021</td>\n",
       "      <td>/Users/sapir/PycharmProjects/hebnlp_project/da...</td>\n",
       "      <td>2021-02-09 08:00:00</td>\n",
       "    </tr>\n",
       "    <tr>\n",
       "      <th>5145</th>\n",
       "      <td></td>\n",
       "      <td>8</td>\n",
       "      <td>9</td>\n",
       "      <td>2</td>\n",
       "      <td>2021</td>\n",
       "      <td>/Users/sapir/PycharmProjects/hebnlp_project/da...</td>\n",
       "      <td>2021-02-09 08:00:00</td>\n",
       "    </tr>\n",
       "  </tbody>\n",
       "</table>\n",
       "<p>5146 rows × 7 columns</p>\n",
       "</div>"
      ],
      "text/plain": [
       "                                              paragraph  hour  day  month  \\\n",
       "0     תם שימוע ראש הממשלה בינימין נתניהו לאחר עשר שע...    21    7     10   \n",
       "1     גבר בן שלושים נורה ברחוב העלייה בלוד מצבו קשה ...    21    7     10   \n",
       "2     הרמטכל רב אלוף אביב כוכבי מזהיר הערב לא נאפשר ...    21    7     10   \n",
       "3     שר התחבורה בצלאל סמוטריץ הודיע בעמוד הפייסבוק ...    21    7     10   \n",
       "4     נשיא ארצות הברית טראמפ הודיע יציב קווים אדומים...    21    7     10   \n",
       "...                                                 ...   ...  ...    ...   \n",
       "5141  בחירות אלפיים עשרים ואחת יושב ראש ימינה חבר הכ...     8    9      2   \n",
       "5142  המחדל בנבטים במהלך אותרה הנקודה בגדר שממנה ככל...     8    9      2   \n",
       "5143  הדיונים על פתיחת המסחר באמצעות הדרכון הירוק יי...     8    9      2   \n",
       "5144  פרסום ראשון חיילת פנתה לרמטכל בדרישה פתח את כל...     8    9      2   \n",
       "5145                                                        8    9      2   \n",
       "\n",
       "      year                                           filename  \\\n",
       "0     2019  /Users/sapir/PycharmProjects/hebnlp_project/da...   \n",
       "1     2019  /Users/sapir/PycharmProjects/hebnlp_project/da...   \n",
       "2     2019  /Users/sapir/PycharmProjects/hebnlp_project/da...   \n",
       "3     2019  /Users/sapir/PycharmProjects/hebnlp_project/da...   \n",
       "4     2019  /Users/sapir/PycharmProjects/hebnlp_project/da...   \n",
       "...    ...                                                ...   \n",
       "5141  2021  /Users/sapir/PycharmProjects/hebnlp_project/da...   \n",
       "5142  2021  /Users/sapir/PycharmProjects/hebnlp_project/da...   \n",
       "5143  2021  /Users/sapir/PycharmProjects/hebnlp_project/da...   \n",
       "5144  2021  /Users/sapir/PycharmProjects/hebnlp_project/da...   \n",
       "5145  2021  /Users/sapir/PycharmProjects/hebnlp_project/da...   \n",
       "\n",
       "                    time  \n",
       "0    2019-10-07 21:00:00  \n",
       "1    2019-10-07 21:00:00  \n",
       "2    2019-10-07 21:00:00  \n",
       "3    2019-10-07 21:00:00  \n",
       "4    2019-10-07 21:00:00  \n",
       "...                  ...  \n",
       "5141 2021-02-09 08:00:00  \n",
       "5142 2021-02-09 08:00:00  \n",
       "5143 2021-02-09 08:00:00  \n",
       "5144 2021-02-09 08:00:00  \n",
       "5145 2021-02-09 08:00:00  \n",
       "\n",
       "[5146 rows x 7 columns]"
      ]
     },
     "execution_count": 2,
     "metadata": {},
     "output_type": "execute_result"
    }
   ],
   "source": [
    "df = pd.read_json(\"../data/processed_data/processed.json\")\n",
    "dti = pd.to_datetime(df[[\"year\", \"month\", \"day\", \"hour\"]], errors=\"coerce\")\n",
    "df[\"time\"] = dti\n",
    "df"
   ]
  },
  {
   "cell_type": "code",
   "execution_count": 3,
   "id": "30f872a5-0bb2-4c73-afef-4586b240baae",
   "metadata": {},
   "outputs": [
    {
     "name": "stdout",
     "output_type": "stream",
     "text": [
      "תם שימוע ראש הממשלה בינימין נתניהו לאחר עשר שעות של דיונים בתיק אלף תיק המתנות היום נחתמו ארבעת ימי השימוע כעת על היועץ המשפטי לממשלה אביחי מנדלבליט להחליט האם להגיש אישום בארבעת התיקים יובל אראל מציין עורכי הדין יגישו סיכומים כתובים אחרי סוכות ומזכיר המשנה לפרקליט המדינה ליאת בן ארי נעדרה מן השימוע ביומיים האחרונים בשל חופשה משפחתית\n"
     ]
    }
   ],
   "source": [
    "print(df.loc[0, \"paragraph\"])"
   ]
  },
  {
   "cell_type": "markdown",
   "id": "206fb724-703e-4903-9235-41c7e3046160",
   "metadata": {},
   "source": [
    "# Tokenization"
   ]
  },
  {
   "cell_type": "code",
   "execution_count": 4,
   "id": "37fada59-b16f-42e5-b3ac-17df32d4996e",
   "metadata": {},
   "outputs": [],
   "source": [
    "text_data = df.paragraph.values.tolist()\n",
    "def sent_to_words(sentences):\n",
    "    for sentence in sentences:\n",
    "        yield(gensim.utils.simple_preprocess(str(sentence), deacc=True)) \n",
    "\n",
    "data_words = list(sent_to_words(text_data))"
   ]
  },
  {
   "cell_type": "markdown",
   "id": "5e6d935d-beae-4a2e-bc7c-eedff0eed34c",
   "metadata": {},
   "source": [
    "# Bigrams and Trigrams"
   ]
  },
  {
   "cell_type": "code",
   "execution_count": 100,
   "id": "3366b6f1-e334-42cc-9eb5-6d3d09424b17",
   "metadata": {},
   "outputs": [],
   "source": [
    "bigram = gensim.models.Phrases(data_words, min_count=50, threshold=1)\n",
    "bigram_mod = bigram.freeze()\n",
    "trigram = gensim.models.Phrases(bigram[data_words], min_count=50, threshold=1)\n",
    "trigram_mode = trigram.freeze()"
   ]
  },
  {
   "cell_type": "code",
   "execution_count": 91,
   "id": "5e2067ee-5b99-429b-9f64-cda579320e9b",
   "metadata": {},
   "outputs": [],
   "source": [
    "from tqdm import tqdm\n",
    "def make_bigrams(texts):\n",
    "    return [bigram[doc] for doc in tqdm(texts)]\n",
    "\n",
    "def make_trigrams(texts):\n",
    "    return [trigram[bigram_mod[doc]] for doc in tqdm(texts)]"
   ]
  },
  {
   "cell_type": "code",
   "execution_count": 92,
   "id": "8018ea29-9ad7-4574-91ca-e0ffb834fb3a",
   "metadata": {},
   "outputs": [
    {
     "name": "stderr",
     "output_type": "stream",
     "text": [
      "\n",
      "  0%|          | 0/5146 [00:00<?, ?it/s]\u001b[A\n",
      " 16%|█▋        | 840/5146 [00:00<00:00, 8378.31it/s]\u001b[A\n",
      " 40%|███▉      | 2056/5146 [00:00<00:00, 10596.42it/s]\u001b[A\n",
      " 62%|██████▏   | 3174/5146 [00:00<00:00, 10862.48it/s]\u001b[A\n",
      "100%|██████████| 5146/5146 [00:00<00:00, 10659.33it/s]\u001b[A\n"
     ]
    }
   ],
   "source": [
    "bigram_data_words = make_bigrams(data_words)"
   ]
  },
  {
   "cell_type": "code",
   "execution_count": 93,
   "id": "44606182-3a2a-4148-9086-74f981a5e03a",
   "metadata": {},
   "outputs": [
    {
     "name": "stderr",
     "output_type": "stream",
     "text": [
      "\n",
      "  0%|          | 0/5146 [00:00<?, ?it/s]\u001b[A\n",
      " 12%|█▏        | 612/5146 [00:00<00:00, 6112.95it/s]\u001b[A\n",
      " 24%|██▍       | 1240/5146 [00:00<00:00, 6207.84it/s]\u001b[A\n",
      " 42%|████▏     | 2162/5146 [00:00<00:00, 7580.42it/s]\u001b[A\n",
      " 58%|█████▊    | 2982/5146 [00:00<00:00, 7820.09it/s]\u001b[A\n",
      " 73%|███████▎  | 3765/5146 [00:00<00:00, 7354.15it/s]\u001b[A\n",
      "100%|██████████| 5146/5146 [00:00<00:00, 7207.95it/s]\u001b[A\n"
     ]
    }
   ],
   "source": [
    "trigram_data_words = make_trigrams(bigram_data_words)"
   ]
  },
  {
   "cell_type": "code",
   "execution_count": 94,
   "id": "d6fdba61-aeaa-4716-85fe-5821321f81b8",
   "metadata": {},
   "outputs": [],
   "source": [
    "stop_grams = [\"גלי_צהל\", \"בגלי_צהל\"]\n",
    "\n",
    "def remove_stopgrams(texts, stop_grams):\n",
    "    return [[word for word in gensim.utils.simple_preprocess(str(doc)) if word not in stop_grams] for doc in tqdm(texts)]"
   ]
  },
  {
   "cell_type": "code",
   "execution_count": 95,
   "id": "5d8ed4dc-9fd0-4147-a890-41f72a1c33be",
   "metadata": {},
   "outputs": [
    {
     "name": "stderr",
     "output_type": "stream",
     "text": [
      "\n",
      "  0%|          | 0/5146 [00:00<?, ?it/s]\u001b[A\n",
      " 23%|██▎       | 1172/5146 [00:00<00:00, 11715.51it/s]\u001b[A\n",
      " 55%|█████▌    | 2840/5146 [00:00<00:00, 14630.69it/s]\u001b[A\n",
      "100%|██████████| 5146/5146 [00:00<00:00, 13558.11it/s]\u001b[A\n"
     ]
    }
   ],
   "source": [
    "processed_data = remove_stopgrams(trigram_data_words, stop_grams)"
   ]
  },
  {
   "cell_type": "markdown",
   "id": "ec618577-6c31-4ec2-a293-ab4be7ddacb0",
   "metadata": {},
   "source": [
    "# Create dictionary and Corpus"
   ]
  },
  {
   "cell_type": "code",
   "execution_count": null,
   "id": "2e69eadb-ad87-435c-8106-d26164c6af40",
   "metadata": {},
   "outputs": [],
   "source": []
  }
 ],
 "metadata": {
  "kernelspec": {
   "display_name": "Python 3",
   "language": "python",
   "name": "python3"
  },
  "language_info": {
   "codemirror_mode": {
    "name": "ipython",
    "version": 3
   },
   "file_extension": ".py",
   "mimetype": "text/x-python",
   "name": "python",
   "nbconvert_exporter": "python",
   "pygments_lexer": "ipython3",
   "version": "3.8.11"
  }
 },
 "nbformat": 4,
 "nbformat_minor": 5
}
